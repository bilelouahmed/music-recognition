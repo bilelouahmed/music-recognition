{
 "cells": [
  {
   "cell_type": "code",
   "execution_count": null,
   "metadata": {},
   "outputs": [],
   "source": [
    "import os\n",
    "from dotenv import load_dotenv\n",
    "\n",
    "import psycopg2\n",
    "\n",
    "load_dotenv()\n",
    "\n",
    "POSTGRES_DB = os.getenv(\"POSTGRES_DB\")\n",
    "POSTGRES_USER = os.getenv(\"POSTGRES_USER\")\n",
    "POSTGRES_PASSWORD = os.getenv(\"POSTGRES_PASSWORD\")\n",
    "POSTGRES_HOST = os.getenv(\"POSTGRES_HOST\")\n",
    "POSTGRES_PORT = os.getenv(\"POSTGRES_PORT\")"
   ]
  },
  {
   "cell_type": "code",
   "execution_count": 7,
   "metadata": {},
   "outputs": [
    {
     "name": "stdout",
     "output_type": "stream",
     "text": [
      "Connexion réussie à PostgreSQL\n",
      "Version de la base de données : PostgreSQL 16.4 (Debian 16.4-1.pgdg120+1) on x86_64-pc-linux-gnu, compiled by gcc (Debian 12.2.0-14) 12.2.0, 64-bit\n"
     ]
    }
   ],
   "source": [
    "try:\n",
    "    conn = psycopg2.connect(\n",
    "        host=POSTGRES_HOST,\n",
    "        port=POSTGRES_PORT,\n",
    "        dbname=POSTGRES_DB,\n",
    "        user=POSTGRES_USER,\n",
    "        password=POSTGRES_PASSWORD\n",
    "    )\n",
    "    cursor = conn.cursor()\n",
    "    print(\"Connexion réussie à PostgreSQL\")\n",
    "\n",
    "    cursor.execute(\"SELECT version();\")\n",
    "    db_version = cursor.fetchone()\n",
    "    print(f\"Version de la base de données : {db_version[0]}\")\n",
    "\n",
    "except Exception as e:\n",
    "    print(f\"Erreur lors de la connexion : {e}\")"
   ]
  },
  {
   "cell_type": "code",
   "execution_count": 13,
   "metadata": {},
   "outputs": [
    {
     "data": {
      "text/plain": [
       "(1,\n",
       " 'Stairway to Heaven',\n",
       " 'Led Zeppelin',\n",
       " 'Led Zeppelin IV',\n",
       " \"There's a lady who's sure all that glitters is gold...\",\n",
       " 'https://example.com/stairway_to_heaven_cover.jpg',\n",
       " 'https://www.youtube.com/watch?v=QkF3oxziUI4')"
      ]
     },
     "execution_count": 13,
     "metadata": {},
     "output_type": "execute_result"
    }
   ],
   "source": [
    "cursor.execute(\"SELECT * FROM songs\")\n",
    "cursor.fetchone()"
   ]
  },
  {
   "cell_type": "code",
   "execution_count": null,
   "metadata": {},
   "outputs": [],
   "source": [
    "if conn:\n",
    "    cursor.close()\n",
    "    conn.close()\n",
    "    print(\"Connexion fermée\")"
   ]
  }
 ],
 "metadata": {
  "kernelspec": {
   "display_name": "Python 3",
   "language": "python",
   "name": "python3"
  },
  "language_info": {
   "codemirror_mode": {
    "name": "ipython",
    "version": 3
   },
   "file_extension": ".py",
   "mimetype": "text/x-python",
   "name": "python",
   "nbconvert_exporter": "python",
   "pygments_lexer": "ipython3",
   "version": "3.9.6"
  }
 },
 "nbformat": 4,
 "nbformat_minor": 2
}
